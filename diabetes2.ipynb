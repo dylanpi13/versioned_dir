{
 "cells": [
  {
   "attachments": {},
   "cell_type": "markdown",
   "metadata": {},
   "source": [
    "# Diabetes group exercise\n",
    "Data from [here](https://scikit-learn.org/stable/datasets/toy_dataset.html#diabetes-dataset)\n",
    "\n",
    "Aim: Linear regression of each x against y to find best fit then maybe a PCA to improve model from there."
   ]
  },
  {
   "cell_type": "code",
   "execution_count": 1,
   "metadata": {},
   "outputs": [],
   "source": [
    "import matplotlib.pyplot as plt\n",
    "import pandas as pd \n",
    "import seaborn as sns\n",
    "\n",
    "from sklearn.linear_model import LinearRegression\n",
    "from sklearn.model_selection import train_test_split"
   ]
  },
  {
   "cell_type": "markdown",
   "metadata": {},
   "source": [
    "Load in data"
   ]
  },
  {
   "cell_type": "code",
   "execution_count": 2,
   "metadata": {},
   "outputs": [],
   "source": [
    "from sklearn.datasets import load_diabetes\n",
    "\n",
    "X, y = load_diabetes(as_frame=True, return_X_y=True)"
   ]
  },
  {
   "cell_type": "markdown",
   "metadata": {},
   "source": [
    "# Explore data graphically"
   ]
  },
  {
   "cell_type": "code",
   "execution_count": 3,
   "metadata": {},
   "outputs": [
    {
     "data": {
      "text/plain": [
       "<AxesSubplot:>"
      ]
     },
     "execution_count": 3,
     "metadata": {},
     "output_type": "execute_result"
    },
    {
     "data": {
      "image/png": "[encoded data removed]",
      "text/plain": [
       "<Figure size 720x720 with 2 Axes>"
      ]
     },
     "metadata": {
      "needs_background": "light"
     },
     "output_type": "display_data"
    }
   ],
   "source": [
    "corr=X.corr()\n",
    "\n",
    "fig, ax = plt.subplots(figsize=(10,10)) \n",
    "sns.heatmap(corr, vmin=-1.0, vmax=1.0, square=True, cmap=\"RdBu\")"
   ]
  },
  {
   "cell_type": "markdown",
   "metadata": {},
   "source": [
    "# Create model using linear regression"
   ]
  },
  {
   "cell_type": "markdown",
   "metadata": {},
   "source": [
    "Split data"
   ]
  },
  {
   "cell_type": "code",
   "execution_count": 4,
   "metadata": {},
   "outputs": [],
   "source": [
    "train_X, test_X, train_y, test_y = train_test_split(X, y, random_state=42)"
   ]
  },
  {
   "cell_type": "markdown",
   "metadata": {},
   "source": [
    "**BMI**"
   ]
  },
  {
   "cell_type": "code",
   "execution_count": 5,
   "metadata": {},
   "outputs": [
    {
     "data": {
      "text/plain": [
       "0.3172099449537781"
      ]
     },
     "execution_count": 5,
     "metadata": {},
     "output_type": "execute_result"
    }
   ],
   "source": [
    "model1 = LinearRegression(fit_intercept=True)\n",
    "model1.fit(train_X[[\"bmi\"]], train_y)\n",
    "#Test model\n",
    "model1.score(test_X[[\"bmi\"]], test_y)"
   ]
  },
  {
   "cell_type": "markdown",
   "metadata": {},
   "source": [
    "**BP**"
   ]
  },
  {
   "cell_type": "code",
   "execution_count": 6,
   "metadata": {},
   "outputs": [
    {
     "data": {
      "text/plain": [
       "0.18471475094826573"
      ]
     },
     "execution_count": 6,
     "metadata": {},
     "output_type": "execute_result"
    }
   ],
   "source": [
    "model2 = LinearRegression(fit_intercept=True)\n",
    "model2.fit(train_X[[\"bp\"]], train_y)\n",
    "#Test model\n",
    "model2.score(test_X[[\"bp\"]], test_y)"
   ]
  },
  {
   "attachments": {},
   "cell_type": "markdown",
   "metadata": {},
   "source": [
    "For loop to do this for all variables\n",
    "(plotting commented out because it's annoying)"
   ]
  },
  {
   "cell_type": "code",
   "execution_count": 43,
   "metadata": {},
   "outputs": [
    {
     "name": "stdout",
     "output_type": "stream",
     "text": [
      "age = 0.009\n",
      "sex = -0.01\n",
      "bmi = 0.317\n",
      "bp = 0.185\n",
      "s1 = 0.066\n",
      "s2 = 0.042\n",
      "s3 = 0.138\n",
      "s4 = 0.193\n",
      "s5 = 0.422\n",
      "s6 = 0.166\n"
     ]
    }
   ],
   "source": [
    "import math\n",
    "\n",
    "variables = list(X.columns.values)\n",
    "\n",
    "for i in variables:\n",
    "    model = LinearRegression(fit_intercept=True)\n",
    "    model.fit(train_X[[i]], train_y)\n",
    "\n",
    "    modscore = model.score(test_X[[i]], test_y)\n",
    "    modscore = round(modscore, 3) #added round to 3dp\n",
    "    print(f\"{i} = {modscore}\")\n",
    "\n",
    "#     x_fit = pd.DataFrame({i: [X[i].min(), X[i].max()]})\n",
    "#     y_pred = model.predict(x_fit)\n",
    "\n",
    "#     fig, ax = plt.subplots()\n",
    "#     ax.scatter(X[i], y)\n",
    "#     ax.plot(x_fit[i], y_pred, linestyle=\":\", color=\"red\")"
   ]
  },
  {
   "cell_type": "markdown",
   "metadata": {},
   "source": [
    "s5 has the best score"
   ]
  },
  {
   "cell_type": "markdown",
   "metadata": {},
   "source": [
    "# PCA analysis\n",
    "From [here](https://milliams.com/courses/applied_data_analysis/appendix_scaling.html#Principal-component-analysis)"
   ]
  },
  {
   "attachments": {},
   "cell_type": "markdown",
   "metadata": {},
   "source": [
    "Create pipeline"
   ]
  },
  {
   "cell_type": "code",
   "execution_count": 37,
   "metadata": {},
   "outputs": [
    {
     "data": {
      "text/plain": [
       "Pipeline(steps=[('pca', PCA()), ('linearregression', LinearRegression())])"
      ]
     },
     "execution_count": 37,
     "metadata": {},
     "output_type": "execute_result"
    }
   ],
   "source": [
    "from sklearn.pipeline import make_pipeline\n",
    "from sklearn.decomposition import PCA\n",
    "\n",
    "PCA_linear_regression = make_pipeline(\n",
    "    PCA(),  # PCA with 10 components as 10 variables\n",
    "    LinearRegression()\n",
    ")\n",
    "\n",
    "PCA_linear_regression"
   ]
  },
  {
   "attachments": {},
   "cell_type": "markdown",
   "metadata": {},
   "source": [
    "Run maximal model + score"
   ]
  },
  {
   "cell_type": "code",
   "execution_count": 38,
   "metadata": {},
   "outputs": [
    {
     "data": {
      "text/plain": [
       "0.48490866359058005"
      ]
     },
     "execution_count": 38,
     "metadata": {},
     "output_type": "execute_result"
    }
   ],
   "source": [
    "PCA_linear_regression.fit(train_X, train_y)\n",
    "PCA_linear_regression.score(test_X, test_y)"
   ]
  },
  {
   "attachments": {},
   "cell_type": "markdown",
   "metadata": {},
   "source": [
    "Show explained variance per PC"
   ]
  },
  {
   "cell_type": "code",
   "execution_count": 39,
   "metadata": {},
   "outputs": [
    {
     "data": {
      "text/plain": [
       "array([0.39500431, 0.14769099, 0.12707124, 0.09895109, 0.06464204,\n",
       "       0.05991754, 0.05393061, 0.044075  , 0.007763  , 0.00095418])"
      ]
     },
     "execution_count": 39,
     "metadata": {},
     "output_type": "execute_result"
    }
   ],
   "source": [
    "PCA_linear_regression[\"pca\"].explained_variance_ratio_"
   ]
  },
  {
   "attachments": {},
   "cell_type": "markdown",
   "metadata": {},
   "source": [
    "Total variance. Should = 1 for all 10"
   ]
  },
  {
   "cell_type": "code",
   "execution_count": 40,
   "metadata": {},
   "outputs": [
    {
     "data": {
      "text/plain": [
       "0.9999999999999998"
      ]
     },
     "execution_count": 40,
     "metadata": {},
     "output_type": "execute_result"
    }
   ],
   "source": [
    "sum(PCA_linear_regression[\"pca\"].explained_variance_ratio_)"
   ]
  },
  {
   "attachments": {},
   "cell_type": "markdown",
   "metadata": {},
   "source": [
    "# Using GridSearchCV to find best number of components"
   ]
  },
  {
   "cell_type": "code",
   "execution_count": 41,
   "metadata": {},
   "outputs": [
    {
     "name": "stdout",
     "output_type": "stream",
     "text": [
      "Score = 0.4877721116535215\n",
      "Best no. of components = 7\n",
      "Total variance explained = 0.9472078209918698\n"
     ]
    }
   ],
   "source": [
    "from sklearn.model_selection import GridSearchCV\n",
    "\n",
    "PCA_linear_regression_cv = GridSearchCV(\n",
    "    make_pipeline(\n",
    "        PCA(),\n",
    "        LinearRegression()\n",
    "    ),\n",
    "    {\n",
    "        \"pca__n_components\" : range(1, 10),\n",
    "    }\n",
    ")\n",
    "\n",
    "PCA_linear_regression_cv.fit(train_X, train_y)\n",
    "score = PCA_linear_regression_cv.score(test_X, test_y)\n",
    "best = PCA_linear_regression_cv.best_estimator_[\"pca\"].n_components_\n",
    "totalvar = sum(PCA_linear_regression_cv.best_estimator_[\"pca\"].explained_variance_ratio_)\n",
    "\n",
    "print(f\"Score = {score}\")\n",
    "print(f\"Best no. of components = {best}\")\n",
    "print(f\"Total variance explained = {totalvar}\")"
   ]
  }
 ],
 "metadata": {
  "kernelspec": {
   "display_name": "Python 3 (ipykernel)",
   "language": "python",
   "name": "python3"
  },
  "language_info": {
   "codemirror_mode": {
    "name": "ipython",
    "version": 3
   },
   "file_extension": ".py",
   "mimetype": "text/x-python",
   "name": "python",
   "nbconvert_exporter": "python",
   "pygments_lexer": "ipython3",
   "version": "3.9.12"
  },
  "vscode": {
   "interpreter": {
    "hash": "94073006e73893ae6576ff7b0e4535397fe75c115ec9b987919d8e4c91088773"
   }
  }
 },
 "nbformat": 4,
 "nbformat_minor": 4
}
